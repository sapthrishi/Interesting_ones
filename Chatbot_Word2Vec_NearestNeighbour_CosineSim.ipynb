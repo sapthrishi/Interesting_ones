{
 "cells": [
  {
   "cell_type": "markdown",
   "metadata": {
    "application/vnd.databricks.v1+cell": {
     "cellMetadata": {
      "byteLimit": 2048000,
      "rowLimit": 10000
     },
     "inputWidgets": {},
     "nuid": "23934291-4366-4370-a14e-063b02065ab0",
     "showTitle": false,
     "title": ""
    }
   },
   "source": [
    "download pretrained word2vec embeddings from https://code.google.com/archive/p/word2vec/"
   ]
  },
  {
   "cell_type": "code",
   "execution_count": 0,
   "metadata": {
    "application/vnd.databricks.v1+cell": {
     "cellMetadata": {
      "byteLimit": 2048000,
      "rowLimit": 10000
     },
     "inputWidgets": {},
     "nuid": "1f3259be-612a-4799-9a5a-de977c0d2df0",
     "showTitle": false,
     "title": ""
    }
   },
   "outputs": [
    {
     "output_type": "stream",
     "name": "stdout",
     "output_type": "stream",
     "text": [
      "\u001B[43mNote: you may need to restart the kernel using dbutils.library.restartPython() to use updated packages.\u001B[0m\nCollecting gensim\n  Downloading gensim-4.3.2-cp310-cp310-manylinux_2_17_x86_64.manylinux2014_x86_64.whl (26.5 MB)\n     ━━━━━━━━━━━━━━━━━━━━━━━━━━━━━━━━━━━━━━━━ 26.5/26.5 MB 56.5 MB/s eta 0:00:00\nCollecting pyspellchecker\n  Downloading pyspellchecker-0.8.1-py3-none-any.whl (6.8 MB)\n     ━━━━━━━━━━━━━━━━━━━━━━━━━━━━━━━━━━━━━━━━ 6.8/6.8 MB 95.5 MB/s eta 0:00:00\nRequirement already satisfied: numpy>=1.18.5 in /databricks/python3/lib/python3.10/site-packages (from gensim) (1.23.5)\nRequirement already satisfied: smart-open>=1.8.1 in /databricks/python3/lib/python3.10/site-packages (from gensim) (5.2.1)\nRequirement already satisfied: scipy>=1.7.0 in /databricks/python3/lib/python3.10/site-packages (from gensim) (1.10.0)\nInstalling collected packages: pyspellchecker, gensim\nSuccessfully installed gensim-4.3.2 pyspellchecker-0.8.1\n\u001B[43mNote: you may need to restart the kernel using dbutils.library.restartPython() to use updated packages.\u001B[0m\n"
     ]
    }
   ],
   "source": [
    "import sys\n",
    "import os\n",
    "!pip install gensim pyspellchecker\n",
    "# sys.path.append(os.path.abspath('/Workspace/Users/rischand@publicisgroupe.net/Temp/chatbot/'))"
   ]
  },
  {
   "cell_type": "code",
   "execution_count": 0,
   "metadata": {
    "application/vnd.databricks.v1+cell": {
     "cellMetadata": {
      "byteLimit": 2048000,
      "rowLimit": 10000
     },
     "inputWidgets": {},
     "nuid": "20e1a404-1662-4eb0-b1ae-1a3aa50d023d",
     "showTitle": false,
     "title": ""
    }
   },
   "outputs": [
    {
     "output_type": "stream",
     "name": "stderr",
     "output_type": "stream",
     "text": [
      "[nltk_data] Downloading package stopwords to /root/nltk_data...\n[nltk_data]   Unzipping corpora/stopwords.zip.\n[nltk_data] Downloading package punkt to /root/nltk_data...\n[nltk_data]   Unzipping tokenizers/punkt.zip.\n[nltk_data] Downloading package wordnet to /root/nltk_data...\n[nltk_data] Downloading package omw-1.4 to /root/nltk_data...\n"
     ]
    }
   ],
   "source": [
    "import os\n",
    "import re\n",
    "import numpy as np\n",
    "import gensim\n",
    "import pandas as pd\n",
    "from gensim.models import KeyedVectors\n",
    "from gensim.test.utils import datapath\n",
    "from sklearn.metrics.pairwise import cosine_similarity\n",
    "from sklearn.base import BaseEstimator\n",
    "from sklearn.base import TransformerMixin\n",
    "import tornado\n",
    "import tornado.httpserver\n",
    "import tornado.ioloop\n",
    "from tornado import web\n",
    "import pickle\n",
    "import yaml\n",
    "import requests\n",
    "import traceback\n",
    "import json\n",
    "import nltk\n",
    "nltk.download('stopwords')\n",
    "nltk.download('punkt')\n",
    "nltk.download('wordnet')\n",
    "nltk.download('omw-1.4')\n",
    "from nltk.corpus import stopwords\n",
    "from nltk.tokenize import word_tokenize\n",
    "from nltk.stem import WordNetLemmatizer\n",
    "from nltk.stem import PorterStemmer\n",
    "from spellchecker import SpellChecker\n",
    "\n",
    "# Global vars:\n",
    "global QUESTION_BANK, WV_EMBEDDINGS\n",
    "WV_EMBEDDINGS  = None    # = google embeddings : is a 5GB data structure, hence hold only 1 instance\n",
    "QUESTION_BANK  = None    # = Question_Bank() : holds all the question bank data, hence hold only 1 instance\n",
    "\n",
    "# for text cleaning\n",
    "REPLACE_BY_SPACE_RE = re.compile('[/(){}\\[\\]\\|@,;]')\n",
    "BAD_SYMBOLS_RE = re.compile('[^0-9a-z #+_]')\n",
    "STOPWORDS = set(stopwords.words('english'))\n",
    "\n",
    "# for word replacements\n",
    "REPLACE = {\n",
    "    'corona'              : 'virus',\n",
    "    'coronavirus'         : 'virus',\n",
    "    'covid'               : 'virus',\n",
    "    'covid-19'            : 'virus',    \n",
    "}\n",
    "DICT_FILE = './EnglishWords.txt'\n",
    "SPELL = SpellChecker()\n",
    "SPELL.word_frequency.load_text_file (DICT_FILE)\n",
    "\n",
    "# optional vocabulary\n",
    "EMB_VOCAB_SET = None\n",
    "with open (DICT_FILE, 'r') as f:\n",
    "    EMB_VOCAB_SET = set (f.readlines())\n",
    "EMB_VOCAB_SET = {w.strip() for w in EMB_VOCAB_SET}\n",
    "\n",
    "\n",
    "def fix_word (word, embeddings=None, isStemming=False, isCorrection=True):\n",
    "    \n",
    "    word = str (word)\n",
    "    if word in embeddings:\n",
    "        return word\n",
    "    \n",
    "    stemmer = PorterStemmer ()\n",
    "    lemmatizer = WordNetLemmatizer ()\n",
    "    word = word.lower ().strip ()\n",
    "    if embeddings:\n",
    "        if not word in embeddings:\n",
    "            word = lemmatizer.lemmatize (word)\n",
    "            if isStemming:\n",
    "                word = stemmer.stem (word)\n",
    "            if isCorrection:\n",
    "                temp_word = SPELL.correction (word)\n",
    "                if temp_word:\n",
    "                    word = temp_word\n",
    "                else:\n",
    "                    word = ''\n",
    "    else:\n",
    "        word = lemmatizer.lemmatize (word)\n",
    "        if isStemming:\n",
    "            word = stemmer.stem (word)\n",
    "        if isCorrection and not word in EMB_VOCAB_SET:\n",
    "            temp_word = SPELL.correction (word)\n",
    "            if temp_word:\n",
    "                word = temp_word\n",
    "            else:\n",
    "                word = ''\n",
    "    return word\n",
    "\n",
    "\n",
    "def text_prepare (text, embeddings=None, isStemming=True, isCorrection=True):\n",
    "    \"\"\"\n",
    "    text: a raw string        \n",
    "    return: list of strings: modified list of words of the string\n",
    "    \"\"\"\n",
    "    \n",
    "    text = str (text)\n",
    "    text = re.sub (r'http[^\\s]*', '', text)\n",
    "    text = re.sub (r'<mm/dd/yyyy>', '', text)\n",
    "    text = re.sub (r'@[^\\s]*', '', text)\n",
    "    # text = re.sub (r'#\\s?[^\\s]*', '', text)\n",
    "    text = text.lower () # lowercase text\n",
    "    text = re.sub (REPLACE_BY_SPACE_RE, \" \", text) # replace REPLACE_BY_SPACE_RE symbols by space in text\n",
    "    text = re.sub (BAD_SYMBOLS_RE, \"\", text) # delete symbols which are in BAD_SYMBOLS_RE from text\n",
    "    word_tokens = word_tokenize (text)\n",
    "    # delete stopwords from text\n",
    "    words = [fix_word (w, embeddings, isStemming, isCorrection) for w in word_tokens if not w in STOPWORDS]\n",
    "    words = [word for word in words if word not in {'', ' '}]\n",
    "    return words\n",
    "\n",
    "\n",
    "def sent2vec_wv (sent, embeddings, dim, isStemming, isCorrection):\n",
    "    \"\"\"\n",
    "    sent       : one raw sentence (string)\n",
    "    embeddings : embeddings dict e.g. WV_EMBEDDINGS \n",
    "    dim        : (int) dimention of a word vector (= 300 as in the google's pretrained file)\n",
    "    \"\"\"\n",
    "    \n",
    "    sent = str (sent)\n",
    "    result = np.zeros (dim)\n",
    "    if not sent is None and len (sent)>0:\n",
    "        \n",
    "        cnt = 0     \n",
    "        words = text_prepare (sent, embeddings, isStemming, isCorrection)\n",
    "        for word in words:\n",
    "            \n",
    "            if word in embeddings:\n",
    "                result += np.array (embeddings[word])\n",
    "                cnt += 1\n",
    "        if cnt != 0:\n",
    "            result /= cnt\n",
    "    return result\n",
    "\n",
    "\n",
    "# Use Pretrained Google Word2Vec Embeddings\n",
    "class WVEmbeddingTransformer (BaseEstimator, TransformerMixin):\n",
    "    \n",
    "    def __init__ (self, embFile=None, isStemming=False, isCorrection=True):\n",
    "        \"\"\"\n",
    "        embFile  : str, filePath\n",
    "        vocabSet : Set of words (strings). if not None then self.isinit=True else False. \n",
    "                    If self.isinit==True then .fit() will do nothing, even when params are provided.\n",
    "        init:\n",
    "            self.dim    : int\n",
    "            self.isinit : boolean\n",
    "        \"\"\"\n",
    "\n",
    "        self.isStemming = isStemming\n",
    "        self.isCorrection = isCorrection\n",
    "        self.embFile = embFile\n",
    "        self.isTransformInit = False\n",
    "        self.spellChecker = None\n",
    "        self.vocabSet = None\n",
    "        self.embedding = WV_EMBEDDINGS\n",
    "        self.dim = 0\n",
    "\n",
    "    \n",
    "    def fit (self, Xstr, Y=None, **fit_params):\n",
    "        \"\"\"\n",
    "        Xstr : set[str] or list[str], set of raw words\n",
    "        \"\"\"\n",
    "        \n",
    "        global WV_EMBEDDINGS, SPELL, EMB_VOCAB_SET\n",
    "        vocabSet = set(Xstr)\n",
    "        WV_EMBEDDINGS = KeyedVectors.load_word2vec_format (datapath (self.embFile), binary=True)\n",
    "\n",
    "        # inint the vocab to all embeddings.vocab\n",
    "        with open(DICT_FILE, \"w\") as f:\n",
    "            for w in WV_EMBEDDINGS.key_to_index:\n",
    "                f.write(f\"{w}\\n\")\n",
    "        SPELL = SpellChecker()\n",
    "        SPELL.word_frequency.load_text_file (DICT_FILE)\n",
    "        if vocabSet and len (vocabSet)>0:\n",
    "            \n",
    "            # set the vocab to the given reduced custom vocab\n",
    "            vocabSet = text_prepare(' '.join(vocabSet), WV_EMBEDDINGS, self.isStemming, self.isCorrection)\n",
    "            temp = {w:WV_EMBEDDINGS[w] for w in vocabSet if w in WV_EMBEDDINGS}\n",
    "            WV_EMBEDDINGS = temp\n",
    "\n",
    "            with open(DICT_FILE, \"w\") as f:\n",
    "                for w in vocabSet:\n",
    "                    f.write(f\"{w}\\n\")\n",
    "            SPELL = SpellChecker()\n",
    "            SPELL.word_frequency.load_text_file (DICT_FILE)\n",
    "            EMB_VOCAB_SET = vocabSet\n",
    "        \n",
    "        # fix dimension\n",
    "        dim = 0\n",
    "        if not type(WV_EMBEDDINGS) is dict:\n",
    "            for w in WV_EMBEDDINGS.key_to_index:\n",
    "                dim = len(WV_EMBEDDINGS[w])\n",
    "                break\n",
    "        else:\n",
    "            for w in WV_EMBEDDINGS:\n",
    "                dim = len(WV_EMBEDDINGS[w])\n",
    "                break\n",
    "            \n",
    "        self.dim = dim\n",
    "        self.vocabSet = vocabSet\n",
    "        self.spellChecker = SPELL\n",
    "        self.embedding = WV_EMBEDDINGS\n",
    "\n",
    "        # print(\"vocabSet =\", vocabSet)\n",
    "        # print(\"SPELL =\", SPELL)\n",
    "        # print(\"WV_EMBEDDINGS words =\", WV_EMBEDDINGS.keys())\n",
    "        print(f\"embeddings shape = [{len(WV_EMBEDDINGS)}, {dim}]\")\n",
    "    \n",
    "    \n",
    "    def transform (self, Xstr, Y=None, **fit_params):\n",
    "        \"\"\"\n",
    "        Xstr   : list of sentences (strings)\n",
    "        return : np.array(list of corresponding sentence embeddings (avg. of word embeddings of the sent))\n",
    "        \"\"\"\n",
    "\n",
    "        global WV_EMBEDDINGS, SPELL, EMB_VOCAB_SET\n",
    "        if not self.isTransformInit:\n",
    "            SPELL = self.spellChecker\n",
    "            EMB_VOCAB_SET = self.vocabSet\n",
    "            WV_EMBEDDINGS = self.embedding\n",
    "            self.isTransformInit = True\n",
    "            \n",
    "        # print(\"self.vocabSet =\", self.vocabSet)\n",
    "        # print(\"self.spellChecker =\", self.spellChecker)\n",
    "        # print(\"self.embedding words =\", self.embedding.keys())\n",
    "        # print(f\"embeddings shape = [{len(self.embedding)}, {self.dim}]\")\n",
    "\n",
    "        X = [sent2vec_wv (sent, self.embedding, self.dim, self.isStemming, self.isCorrection) for sent in Xstr]\n",
    "        return np.array(X)\n",
    "\n",
    "\n",
    "# Nearest Neighbour Question Bank\n",
    "def getCosineNearestNeighbours (q_vec, cand_vecs, k=1, dim=300):\n",
    "    \"\"\"\n",
    "    q_vec : 1 array vec of shape 1*dim\n",
    "    cand_vecs : an array of N vecs each vec is a row\n",
    "    returns the index positions of the k closest condidate vecs ones having highest cosine similarity\n",
    "    \"\"\"\n",
    "    \n",
    "    q_vec       = q_vec.reshape ((1, -1))\n",
    "    cand_vecs   = cand_vecs.reshape ((-1, dim))\n",
    "    cosines     = np.array (cosine_similarity (q_vec, cand_vecs)[0])\n",
    "    merged_list = list (zip (cosines, range (len (cand_vecs))))\n",
    "    # print(merged_list)\n",
    "    sorted_list = sorted (merged_list, key=lambda x: x[0], reverse=True)\n",
    "    result = [b for a,b in sorted_list]\n",
    "    if len(result) > k:\n",
    "        result = result[:k]\n",
    "    return result\n",
    "\n",
    "\n",
    "class Question_Bank:\n",
    "    \n",
    "    def __init__ (self, questionBank_filename, emb_file, vocabSet, isCorrection=True):\n",
    "        \"\"\"\n",
    "        file should contain columns 'questions', 'answers', 'contexts': are raw text\n",
    "        text cleaning is done on the fly while creating embeddings.\n",
    "        \"\"\"\n",
    "\n",
    "        # vectorize the data and store it in mem nearest neighbor \n",
    "        self.df = pd.read_parquet (questionBank_filename)\n",
    "        self.N  = self.df.shape[0]\n",
    "        Xstr = list (self.df['questions']) + list (self.df['answers']) + list (self.df['contexts'])\n",
    "        self.embTransformer = WVEmbeddingTransformer (emb_file, isCorrection=isCorrection)\n",
    "        self.embTransformer.fit(vocabSet)\n",
    "        self.CAND_VECS = self.embTransformer.transform (Xstr)\n",
    "        return\n",
    "    \n",
    "    def get_nearest_QA_indices (self, qn_str):\n",
    "        \n",
    "        qn_str = str (qn_str)\n",
    "        q_vec = self.embTransformer.transform ([qn_str])\n",
    "        nearest_indices = getCosineNearestNeighbours (q_vec, self.CAND_VECS, k=4)\n",
    "        qn_idxs = []\n",
    "        for i in nearest_indices:\n",
    "            \n",
    "            if i+1 > 2*self.N:\n",
    "                if i-2*self.N not in qn_idxs:\n",
    "                    qn_idxs.append (i-2*self.N)\n",
    "            elif i+1 > self.N:\n",
    "                if i-self.N not in qn_idxs:\n",
    "                    qn_idxs.append (i-self.N)\n",
    "            elif i>=0 and i not in qn_idxs:\n",
    "                qn_idxs.append (i)\n",
    "        return qn_idxs\n",
    "\n",
    "    def ask (self, qn_str):\n",
    "        \n",
    "        qn_str = str (qn_str)\n",
    "        qn_idxs = self.get_nearest_QA_indices (qn_str)\n",
    "        df = self.df.iloc[qn_idxs].reset_index (drop=True)\n",
    "        question = 'NOT_FOUND'\n",
    "        answer = 'NOT_FOUND'\n",
    "        suggestions = []\n",
    "        if df.shape[0]>0:\n",
    "            question = str (df[\"questions\"][0])\n",
    "            answer = str (df[\"answers\"][0])\n",
    "        if df.shape[0]>1:\n",
    "            suggestions = df.loc[1:, [\"questions\", \"answers\"]].reset_index(drop=True)\n",
    "        return question, answer, suggestions\n",
    "\n",
    "\n",
    "class Text_cleaner_transformer (BaseEstimator, TransformerMixin):\n",
    "    \n",
    "    def __init__(self, isStemming=True, isCorrection=False, embedding=None):\n",
    "        \n",
    "        self.isStemming   = isStemming\n",
    "        self.isCorrection = isCorrection\n",
    "        self.embedding    = embedding\n",
    "        return\n",
    "    \n",
    "    def fit (self, Xstr, y=None, **fit_params):\n",
    "        return self\n",
    "    \n",
    "    def transform (self, Xstr, y=None, **fit_params):\n",
    "        \n",
    "        Xstr   = [' '.join (text_prepare (sent, self.embedding, self.isStemming, self.isCorrection)) for sent in Xstr]\n",
    "        return Xstr\n",
    "\n",
    "\n",
    "def preProcess (rawfile, newFileName, column_names):\n",
    "    \n",
    "    df = pd.read_csv (rawfile)\n",
    "    for column_name in column_names:\n",
    "        Xstr = df[column_name]\n",
    "        text_cleaner = Text_cleaner_transformer (isCorrection=True, embedding=WV_EMBEDDINGS)\n",
    "        Xstr = text_cleaner.transform (Xstr)\n",
    "        df[f\"{column_name}_cleaned\"] = Xstr\n",
    "\n",
    "    df.to_csv (newFileName)\n",
    "    return\n",
    "\n",
    "\n",
    "def pickleSave (obj, file):    \n",
    "    dirs = os.path.dirname (file) \n",
    "    if dirs:\n",
    "        os.makedirs (dirs, exist_ok=True)\n",
    "    with open (file, 'wb') as f:\n",
    "        pickle.dump (obj, f)\n",
    "    return\n",
    "\n",
    "def unpickle (file):\n",
    "    return pickle.load (open (file, 'rb'))"
   ]
  },
  {
   "cell_type": "code",
   "execution_count": 0,
   "metadata": {
    "application/vnd.databricks.v1+cell": {
     "cellMetadata": {
      "byteLimit": 2048000,
      "rowLimit": 10000
     },
     "inputWidgets": {},
     "nuid": "9faef851-0a9d-4364-9813-a5055144eac2",
     "showTitle": false,
     "title": ""
    }
   },
   "outputs": [],
   "source": []
  },
  {
   "cell_type": "code",
   "execution_count": 0,
   "metadata": {
    "application/vnd.databricks.v1+cell": {
     "cellMetadata": {
      "byteLimit": 2048000,
      "rowLimit": 10000
     },
     "inputWidgets": {},
     "nuid": "f2e38721-03dc-4540-8b1c-205ee4ed4b58",
     "showTitle": true,
     "title": "Set colnames as 'contexts' 'questions' 'answers' in Q/A-dataset"
    }
   },
   "outputs": [
    {
     "output_type": "execute_result",
     "data": {
      "text/html": [
       "<div>\n",
       "<style scoped>\n",
       "    .dataframe tbody tr th:only-of-type {\n",
       "        vertical-align: middle;\n",
       "    }\n",
       "\n",
       "    .dataframe tbody tr th {\n",
       "        vertical-align: top;\n",
       "    }\n",
       "\n",
       "    .dataframe thead th {\n",
       "        text-align: right;\n",
       "    }\n",
       "</style>\n",
       "<table border=\"1\" class=\"dataframe\">\n",
       "  <thead>\n",
       "    <tr style=\"text-align: right;\">\n",
       "      <th></th>\n",
       "      <th>contexts</th>\n",
       "      <th>questions</th>\n",
       "      <th>answers</th>\n",
       "    </tr>\n",
       "  </thead>\n",
       "  <tbody>\n",
       "    <tr>\n",
       "      <th>0</th>\n",
       "      <td>The small intestine is part of the\\n\\t\\t  body...</td>\n",
       "      <td>What is (are) Small Intestine Cancer ?</td>\n",
       "      <td>Key Points\\n                    - Small intest...</td>\n",
       "    </tr>\n",
       "    <tr>\n",
       "      <th>1</th>\n",
       "      <td>The small intestine is part of the\\n\\t\\t  body...</td>\n",
       "      <td>Who is at risk for Small Intestine Cancer? ?</td>\n",
       "      <td>Diet and health history can affect the risk of...</td>\n",
       "    </tr>\n",
       "    <tr>\n",
       "      <th>2</th>\n",
       "      <td>The small intestine is part of the\\n\\t\\t  body...</td>\n",
       "      <td>What are the symptoms of Small Intestine Cancer ?</td>\n",
       "      <td>Signs and symptoms of small intestine cancer i...</td>\n",
       "    </tr>\n",
       "    <tr>\n",
       "      <th>3</th>\n",
       "      <td>The small intestine is part of the\\n\\t\\t  body...</td>\n",
       "      <td>How to diagnose Small Intestine Cancer ?</td>\n",
       "      <td>Tests that examine the small intestine are use...</td>\n",
       "    </tr>\n",
       "    <tr>\n",
       "      <th>4</th>\n",
       "      <td>The small intestine is part of the\\n\\t\\t  body...</td>\n",
       "      <td>What is the outlook for Small Intestine Cancer ?</td>\n",
       "      <td>Certain factors affect prognosis (chance of re...</td>\n",
       "    </tr>\n",
       "    <tr>\n",
       "      <th>5</th>\n",
       "      <td>The small intestine is part of the\\n\\t\\t  body...</td>\n",
       "      <td>What are the stages of Small Intestine Cancer ?</td>\n",
       "      <td>Key Points\\n                    - Tests and pr...</td>\n",
       "    </tr>\n",
       "    <tr>\n",
       "      <th>6</th>\n",
       "      <td>The small intestine is part of the\\n\\t\\t  body...</td>\n",
       "      <td>What are the treatments for Small Intestine Ca...</td>\n",
       "      <td>Key Points\\n                    - There are di...</td>\n",
       "    </tr>\n",
       "    <tr>\n",
       "      <th>7</th>\n",
       "      <td>Renal cell cancer  (also called kidney cancer ...</td>\n",
       "      <td>What is (are) Renal Cell Cancer ?</td>\n",
       "      <td>Key Points\\n                    - Renal cell c...</td>\n",
       "    </tr>\n",
       "    <tr>\n",
       "      <th>8</th>\n",
       "      <td>Renal cell cancer  (also called kidney cancer ...</td>\n",
       "      <td>What are the stages of Renal Cell Cancer ?</td>\n",
       "      <td>Key Points\\n                    - After renal ...</td>\n",
       "    </tr>\n",
       "    <tr>\n",
       "      <th>9</th>\n",
       "      <td>Renal cell cancer  (also called kidney cancer ...</td>\n",
       "      <td>What are the treatments for Renal Cell Cancer ?</td>\n",
       "      <td>Key Points\\n                    - There are di...</td>\n",
       "    </tr>\n",
       "  </tbody>\n",
       "</table>\n",
       "</div>"
      ],
      "text/plain": [
       "                                            contexts  ...                                            answers\n",
       "0  The small intestine is part of the\\n\\t\\t  body...  ...  Key Points\\n                    - Small intest...\n",
       "1  The small intestine is part of the\\n\\t\\t  body...  ...  Diet and health history can affect the risk of...\n",
       "2  The small intestine is part of the\\n\\t\\t  body...  ...  Signs and symptoms of small intestine cancer i...\n",
       "3  The small intestine is part of the\\n\\t\\t  body...  ...  Tests that examine the small intestine are use...\n",
       "4  The small intestine is part of the\\n\\t\\t  body...  ...  Certain factors affect prognosis (chance of re...\n",
       "5  The small intestine is part of the\\n\\t\\t  body...  ...  Key Points\\n                    - Tests and pr...\n",
       "6  The small intestine is part of the\\n\\t\\t  body...  ...  Key Points\\n                    - There are di...\n",
       "7  Renal cell cancer  (also called kidney cancer ...  ...  Key Points\\n                    - Renal cell c...\n",
       "8  Renal cell cancer  (also called kidney cancer ...  ...  Key Points\\n                    - After renal ...\n",
       "9  Renal cell cancer  (also called kidney cancer ...  ...  Key Points\\n                    - There are di...\n",
       "\n",
       "[10 rows x 3 columns]"
      ]
     },
     "execution_count": 3,
     "metadata": {},
     "output_type": "execute_result"
    }
   ],
   "source": [
    "df = pd.read_parquet(\"/dbfs/FileStore/surajit/train_00000_of_00001_c38b6c63d6178c71.parquet\").head(100)\n",
    "list(df.columns)\n",
    "df.columns = [colname.lower() for colname in list(df.columns)]\n",
    "df.to_parquet(\"/dbfs/FileStore/surajit/qa.parquet\")\n",
    "df"
   ]
  },
  {
   "cell_type": "code",
   "execution_count": 0,
   "metadata": {
    "application/vnd.databricks.v1+cell": {
     "cellMetadata": {
      "byteLimit": 2048000,
      "rowLimit": 10000
     },
     "inputWidgets": {},
     "nuid": "8fe12516-b83b-4b44-a80b-842c57fa4e35",
     "showTitle": true,
     "title": "init vocab for faster processing"
    }
   },
   "outputs": [],
   "source": [
    "vocab_set = set()\n",
    "for colname in df.columns:\n",
    "    vocab_set.update({w.lower() for w in list(df[colname].str.split(' ', expand=True).stack().unique())})"
   ]
  },
  {
   "cell_type": "code",
   "execution_count": 0,
   "metadata": {
    "application/vnd.databricks.v1+cell": {
     "cellMetadata": {
      "byteLimit": 2048000,
      "rowLimit": 10000
     },
     "inputWidgets": {},
     "nuid": "04f488d8-e72f-42a5-a7e1-159cb6df2a50",
     "showTitle": false,
     "title": ""
    }
   },
   "outputs": [
    {
     "output_type": "stream",
     "name": "stdout",
     "output_type": "stream",
     "text": [
      "embeddings shape = [786, 300]\n"
     ]
    }
   ],
   "source": [
    "qb = Question_Bank(\n",
    "    '/dbfs/FileStore/surajit/qa.parquet',\n",
    "    '/dbfs/FileStore/surajit/GoogleNews_vectors_negative300_bin.gz',\n",
    "    vocabSet=vocab_set,\n",
    ")"
   ]
  },
  {
   "cell_type": "code",
   "execution_count": 0,
   "metadata": {
    "application/vnd.databricks.v1+cell": {
     "cellMetadata": {
      "byteLimit": 2048000,
      "rowLimit": 10000
     },
     "inputWidgets": {},
     "nuid": "f59b7f7e-e032-46d6-9a6b-38aeff8261d2",
     "showTitle": true,
     "title": "Save trained model"
    }
   },
   "outputs": [],
   "source": [
    "artifacts = {\n",
    "    \"WV_EMBEDDINGS\": WV_EMBEDDINGS,\n",
    "    \"EMB_VOCAB_SET\": EMB_VOCAB_SET\n",
    "}\n",
    "pickleSave(artifacts, '/dbfs/FileStore/surajit/artifacts.bin')\n",
    "pickleSave(qb, '/dbfs/FileStore/surajit/qb.bin')"
   ]
  },
  {
   "cell_type": "code",
   "execution_count": 0,
   "metadata": {
    "application/vnd.databricks.v1+cell": {
     "cellMetadata": {
      "byteLimit": 2048000,
      "rowLimit": 10000
     },
     "inputWidgets": {},
     "nuid": "8ad14468-5429-453e-98d8-7afe61d65d70",
     "showTitle": true,
     "title": "Ask questions !"
    }
   },
   "outputs": [
    {
     "output_type": "stream",
     "name": "stdout",
     "output_type": "stream",
     "text": [
      "Matching question = What is (are) Small Intestine Cancer ?\nAnswer = Key Points\n                    - Small intestine cancer is a rare disease in which malignant (cancer) cells form in the tissues of the small intestine.    - There are five types of small intestine cancer.    - Diet and health history can affect the risk of developing small intestine cancer.    - Signs and symptoms of small intestine cancer include unexplained weight loss and abdominal pain.    - Tests that examine the small intestine are used to detect (find), diagnose, and stage small intestine cancer.    - Certain factors affect prognosis (chance of recovery) and treatment options.\n                \n                \n                    Small intestine cancer is a rare disease in which malignant (cancer) cells form in the tissues of the small intestine.\n                    The small intestine is part of the bodys digestive system, which also includes the esophagus, stomach, and large intestine. The digestive system removes and processes nutrients (vitamins, minerals, carbohydrates, fats, proteins, and water) from foods and helps pass waste material out of the body. The small intestine is a long tube that connects the stomach to the large intestine. It folds many times to fit inside the abdomen.\n                \n                \n                    There are five types of small intestine cancer.\n                    The types of cancer found in the small intestine are adenocarcinoma, sarcoma, carcinoid tumors, gastrointestinal stromal tumor, and lymphoma. This summary discusses adenocarcinoma and leiomyosarcoma (a type of sarcoma).    Adenocarcinoma starts in glandular cells in the lining of the small intestine and is the most common type of small intestine cancer. Most of these tumors occur in the part of the small intestine near the stomach. They may grow and block the intestine.   Leiomyosarcoma starts in the smooth muscle cells of the small intestine. Most of these tumors occur in the part of the small intestine near the large intestine.    See the following PDQ summaries for more information on small intestine cancer:          -  Adult Soft Tissue Sarcoma Treatment     -  Childhood Soft Tissue Sarcoma Treatment     -  Adult Non-Hodgkin Lymphoma Treatment     -  Childhood Non-Hodgkin Lymphoma Treatment     -  Gastrointestinal Carcinoid Tumors Treatment     -  Gastrointestinal Stromal Tumors Treatment\n\nSuggestions:\n"
     ]
    },
    {
     "output_type": "display_data",
     "data": {
      "text/html": [
       "<style scoped>\n",
       "  .table-result-container {\n",
       "    max-height: 300px;\n",
       "    overflow: auto;\n",
       "  }\n",
       "  table, th, td {\n",
       "    border: 1px solid black;\n",
       "    border-collapse: collapse;\n",
       "  }\n",
       "  th, td {\n",
       "    padding: 5px;\n",
       "  }\n",
       "  th {\n",
       "    text-align: left;\n",
       "  }\n",
       "</style><div class='table-result-container'><table class='table-result'><thead style='background-color: white'><tr><th>questions</th><th>answers</th></tr></thead><tbody><tr><td>What are the treatments for Small Intestine Cancer ?</td><td>Key Points\n",
       "                    - There are different types of treatment for patients with small intestine cancer.    - Three types of standard treatment are used:         -  Surgery      -  Radiation therapy      -  Chemotherapy         - New types of treatment are being tested in clinical trials.          - Biologic therapy     - Radiation therapy with radiosensitizers         - Patients may want to think about taking part in a clinical trial.    - Patients can enter clinical trials before, during, or after starting their cancer treatment.    - Follow-up tests may be needed.\n",
       "                \n",
       "                \n",
       "                    There are different types of treatment for patients with small intestine cancer.\n",
       "                    Different types of treatments are available for patients with small intestine cancer. Some treatments are standard (the currently used treatment), and some are being tested in clinical trials. A treatment clinical trial is a research study meant to help improve current treatments or obtain information on new treatments for patients with cancer. When clinical trials show that a new treatment is better than the standard treatment, the new treatment may become the standard treatment. Patients may want to think about taking part in a clinical trial. Some clinical trials are open only to patients who have not started treatment.\n",
       "                \n",
       "                \n",
       "                    Three types of standard treatment are used:\n",
       "                    Surgery      Surgery is the most common treatment of small intestine cancer. One of the following types of surgery may be done:            -  Resection: Surgery to remove part or all of an organ that contains cancer. The resection may include the small intestine and nearby organs (if the cancer has spread). The doctor may remove the section of the small intestine that contains cancer and perform an anastomosis (joining the cut ends of the intestine together). The doctor will usually remove lymph nodes near the small intestine and examine them under a microscope to see whether they contain cancer.     -  Bypass: Surgery to allow food in the small intestine to go around (bypass) a tumor that is blocking the intestine but cannot be removed.            Even if the doctor removes all the cancer that can be seen at the time of the surgery, some patients may be given radiation therapy after surgery to kill any cancer cells that are left. Treatment given after the surgery, to lower the risk that the cancer will come back, is called adjuvant therapy.        Radiation therapy     Radiation therapy is a cancer treatment that uses high-energy x-rays or other types of radiation to kill cancer cells or keep them from growing. There are two types of radiation therapy:            -  External radiation therapy uses a machine outside the body to send radiation toward the cancer.     -  Internal radiation therapy uses a radioactive substance sealed in needles, seeds, wires, or catheters that are placed directly into or near the cancer.            The way the radiation therapy is given depends on the type of the cancer being treated. External radiation therapy is used to treat small intestine cancer.         Chemotherapy      Chemotherapy is a cancer treatment that uses drugs to stop the growth of cancer cells, either by killing the cells or by stopping them from dividing. When chemotherapy is taken by mouth or injected into a vein or muscle, the drugs enter the bloodstream and can reach cancer cells throughout the body (systemic chemotherapy). When chemotherapy is placed directly into the cerebrospinal fluid, an organ, or a body cavity such as the abdomen, the drugs mainly affect cancer cells in those areas (regional chemotherapy). The way the chemotherapy is given depends on the type and stage of the cancer being treated.\n",
       "                \n",
       "                \n",
       "                    New types of treatment are being tested in clinical trials.\n",
       "                    This summary section describes treatments that are being studied in clinical trials. It may not mention every new treatment being studied. Information about clinical trials is available from the NCI website.     Biologic therapy     Biologic therapy is a treatment that uses the patient&apos;s immune system to fight cancer. Substances made by the body or made in a laboratory are used to boost, direct, or restore the body&apos;s natural defenses against cancer. This type of cancer treatment is also called biotherapy or immunotherapy.       Radiation therapy with radiosensitizers      Radiosensitizers are drugs that make tumor cells more sensitive to radiation therapy. Combining radiation therapy with radiosensitizers may kill more tumor cells.\n",
       "                \n",
       "                \n",
       "                    Patients may want to think about taking part in a clinical trial.\n",
       "                    For some patients, taking part in a clinical trial may be the best treatment choice. Clinical trials are part of the cancer research process. Clinical trials are done to find out if new cancer treatments are safe and effective or better than the standard treatment.   Many of today&apos;s standard treatments for cancer are based on earlier clinical trials. Patients who take part in a clinical trial may receive the standard treatment or be among the first to receive a new treatment.   Patients who take part in clinical trials also help improve the way cancer will be treated in the future. Even when clinical trials do not lead to effective new treatments, they often answer important questions and help move research forward.\n",
       "                \n",
       "                \n",
       "                    Patients can enter clinical trials before, during, or after starting their cancer treatment.\n",
       "                    Some clinical trials only include patients who have not yet received treatment. Other trials test treatments for patients whose cancer has not gotten better. There are also clinical trials that test new ways to stop cancer from recurring (coming back) or reduce the side effects of cancer treatment.   Clinical trials are taking place in many parts of the country. See the Treatment Options section that follows for links to current treatment clinical trials. These have been retrieved from NCI&apos;s listing of clinical trials.\n",
       "                \n",
       "                \n",
       "                    Follow-up tests may be needed.\n",
       "                    Some of the tests that were done to diagnose the cancer or to find out the stage of the cancer may be repeated. Some tests will be repeated in order to see how well the treatment is working. Decisions about whether to continue, change, or stop treatment may be based on the results of these tests.   Some of the tests will continue to be done from time to time after treatment has ended. The results of these tests can show if your condition has changed or if the cancer has recurred (come back). These tests are sometimes called follow-up tests or check-ups.\n",
       "                \n",
       "                \n",
       "            \t\tTreatment Options for Small Intestine Cancer\n",
       "            \t\t\n",
       "                \t\t\n",
       "                    \t\tSmall Intestine Adenocarcinoma\n",
       "                    \t\tWhen possible, treatment of small intestine adenocarcinoma will be surgery to remove the tumor and some of the normal tissue around it.   Treatment of small intestine adenocarcinoma that cannot be removed by surgery may include the following:         - Surgery to bypass the tumor.    -  Radiation therapy as palliative therapy to relieve symptoms and improve the patient&apos;s quality of life.    - A clinical trial of radiation therapy with radiosensitizers, with or without chemotherapy.    - A clinical trial of new anticancer drugs.    - A clinical trial of biologic therapy.         Check the list of NCI-supported cancer clinical trials that are now accepting patients with small intestine adenocarcinoma. For more specific results, refine the search by using other search features, such as the location of the trial, the type of treatment, or the name of the drug. Talk with your doctor about clinical trials that may be right for you. General information about clinical trials is available from the NCI website.\n",
       "                \t\t\n",
       "                \t\t\n",
       "                    \t\tSmall Intestine Leiomyosarcoma\n",
       "                    \t\tWhen possible, treatment of small intestine leiomyosarcoma will be surgery to remove the tumor and some of the normal tissue around it.   Treatment of small intestine leiomyosarcoma that cannot be removed by surgery may include the following:         - Surgery (to bypass the tumor) and radiation therapy.    - Surgery, radiation therapy, or chemotherapy as palliative therapy to relieve symptoms and improve the patient&apos;s quality of life.    - A clinical trial of new anticancer drugs.    - A clinical trial of biologic therapy.         Check the list of NCI-supported cancer clinical trials that are now accepting patients with small intestine leiomyosarcoma. For more specific results, refine the search by using other search features, such as the location of the trial, the type of treatment, or the name of the drug. Talk with your doctor about clinical trials that may be right for you. General information about clinical trials is available from the NCI website.\n",
       "                \t\t\n",
       "                \t\n",
       "                    Recurrent Small Intestine Cancer\n",
       "                    Treatment of recurrent small intestine cancer that has spread to other parts of the body is usually a clinical trial of new anticancer drugs or biologic therapy.   Treatment of locally recurrent small intestine cancer may include the following:         -  Surgery.    -  Radiation therapy or chemotherapy as palliative therapy to relieve symptoms and improve the patient&apos;s quality of life.    - A clinical trial of radiation therapy with radiosensitizers, with or without chemotherapy.        Check the list of NCI-supported cancer clinical trials that are now accepting patients with recurrent small intestine cancer. For more specific results, refine the search by using other search features, such as the location of the trial, the type of treatment, or the name of the drug. Talk with your doctor about clinical trials that may be right for you. General information about clinical trials is available from the NCI website.</td></tr><tr><td>What are the stages of Small Intestine Cancer ?</td><td>Key Points\n",
       "                    - Tests and procedures to stage small intestine cancer are usually done at the same time as diagnosis.     - There are three ways that cancer spreads in the body.    - Cancer may spread from where it began to other parts of the body.    - Small intestine cancer is grouped according to whether or not the tumor can be completely removed by surgery.\n",
       "                \n",
       "                \n",
       "                    Tests and procedures to stage small intestine cancer are usually done at the same time as diagnosis.\n",
       "                    Staging is used to find out how far the cancer has spread, but treatment decisions are not based on stage. See the General Information section for a description of tests and procedures used to detect, diagnose, and stage small intestine cancer.\n",
       "                \n",
       "                \n",
       "                    There are three ways that cancer spreads in the body.\n",
       "                    Cancer can spread through tissue, the lymph system, and the blood:         - Tissue. The cancer spreads from where it began by growing into nearby areas.     - Lymph system. The cancer spreads from where it began by getting into the lymph system. The cancer travels through the lymph vessels to other parts of the body.     - Blood. The cancer spreads from where it began by getting into the blood. The cancer travels through the blood vessels to other parts of the body.\n",
       "                \n",
       "                \n",
       "                    Cancer may spread from where it began to other parts of the body.\n",
       "                    When cancer spreads to another part of the body, it is called metastasis. Cancer cells break away from where they began (the primary tumor) and travel through the lymph system or blood.         - Lymph system. The cancer gets into the lymph system, travels through the lymph vessels, and forms a tumor (metastatic tumor) in another part of the body.    - Blood. The cancer gets into the blood, travels through the blood vessels, and forms a tumor (metastatic tumor) in another part of the body.        The metastatic tumor is the same type of cancer as the primary tumor. For example, if small intestine cancer spreads to the liver, the cancer cells in the liver are actually small intestine cancer cells. The disease is metastatic small intestine cancer, not liver cancer.\n",
       "                \n",
       "                \n",
       "                    Small intestine cancer is grouped according to whether or not the tumor can be completely removed by surgery.\n",
       "                    Treatment depends on whether the tumor can be removed by surgery and if the cancer is being treated as a primary tumor or is metastatic cancer.</td></tr><tr><td>What are the symptoms of Small Intestine Cancer ?</td><td>Signs and symptoms of small intestine cancer include unexplained weight loss and abdominal pain. These and other signs and symptoms may be caused by small intestine cancer or by other conditions. Check with your doctor if you have any of the following:          - Pain or cramps in the middle of the abdomen.    - Weight loss with no known reason.     - A lump in the abdomen.     -  Blood in the stool.</td></tr></tbody></table></div>"
      ]
     },
     "metadata": {
      "application/vnd.databricks.v1+output": {
       "addedWidgets": {},
       "aggData": [],
       "aggError": "",
       "aggOverflow": false,
       "aggSchema": [],
       "aggSeriesLimitReached": false,
       "aggType": "",
       "arguments": {},
       "columnCustomDisplayInfos": {},
       "data": [
        [
         "What are the treatments for Small Intestine Cancer ?",
         "Key Points\n                    - There are different types of treatment for patients with small intestine cancer.    - Three types of standard treatment are used:         -  Surgery      -  Radiation therapy      -  Chemotherapy         - New types of treatment are being tested in clinical trials.          - Biologic therapy     - Radiation therapy with radiosensitizers         - Patients may want to think about taking part in a clinical trial.    - Patients can enter clinical trials before, during, or after starting their cancer treatment.    - Follow-up tests may be needed.\n                \n                \n                    There are different types of treatment for patients with small intestine cancer.\n                    Different types of treatments are available for patients with small intestine cancer. Some treatments are standard (the currently used treatment), and some are being tested in clinical trials. A treatment clinical trial is a research study meant to help improve current treatments or obtain information on new treatments for patients with cancer. When clinical trials show that a new treatment is better than the standard treatment, the new treatment may become the standard treatment. Patients may want to think about taking part in a clinical trial. Some clinical trials are open only to patients who have not started treatment.\n                \n                \n                    Three types of standard treatment are used:\n                    Surgery      Surgery is the most common treatment of small intestine cancer. One of the following types of surgery may be done:            -  Resection: Surgery to remove part or all of an organ that contains cancer. The resection may include the small intestine and nearby organs (if the cancer has spread). The doctor may remove the section of the small intestine that contains cancer and perform an anastomosis (joining the cut ends of the intestine together). The doctor will usually remove lymph nodes near the small intestine and examine them under a microscope to see whether they contain cancer.     -  Bypass: Surgery to allow food in the small intestine to go around (bypass) a tumor that is blocking the intestine but cannot be removed.            Even if the doctor removes all the cancer that can be seen at the time of the surgery, some patients may be given radiation therapy after surgery to kill any cancer cells that are left. Treatment given after the surgery, to lower the risk that the cancer will come back, is called adjuvant therapy.        Radiation therapy     Radiation therapy is a cancer treatment that uses high-energy x-rays or other types of radiation to kill cancer cells or keep them from growing. There are two types of radiation therapy:            -  External radiation therapy uses a machine outside the body to send radiation toward the cancer.     -  Internal radiation therapy uses a radioactive substance sealed in needles, seeds, wires, or catheters that are placed directly into or near the cancer.            The way the radiation therapy is given depends on the type of the cancer being treated. External radiation therapy is used to treat small intestine cancer.         Chemotherapy      Chemotherapy is a cancer treatment that uses drugs to stop the growth of cancer cells, either by killing the cells or by stopping them from dividing. When chemotherapy is taken by mouth or injected into a vein or muscle, the drugs enter the bloodstream and can reach cancer cells throughout the body (systemic chemotherapy). When chemotherapy is placed directly into the cerebrospinal fluid, an organ, or a body cavity such as the abdomen, the drugs mainly affect cancer cells in those areas (regional chemotherapy). The way the chemotherapy is given depends on the type and stage of the cancer being treated.\n                \n                \n                    New types of treatment are being tested in clinical trials.\n                    This summary section describes treatments that are being studied in clinical trials. It may not mention every new treatment being studied. Information about clinical trials is available from the NCI website.     Biologic therapy     Biologic therapy is a treatment that uses the patient&apos;s immune system to fight cancer. Substances made by the body or made in a laboratory are used to boost, direct, or restore the body&apos;s natural defenses against cancer. This type of cancer treatment is also called biotherapy or immunotherapy.       Radiation therapy with radiosensitizers      Radiosensitizers are drugs that make tumor cells more sensitive to radiation therapy. Combining radiation therapy with radiosensitizers may kill more tumor cells.\n                \n                \n                    Patients may want to think about taking part in a clinical trial.\n                    For some patients, taking part in a clinical trial may be the best treatment choice. Clinical trials are part of the cancer research process. Clinical trials are done to find out if new cancer treatments are safe and effective or better than the standard treatment.   Many of today&apos;s standard treatments for cancer are based on earlier clinical trials. Patients who take part in a clinical trial may receive the standard treatment or be among the first to receive a new treatment.   Patients who take part in clinical trials also help improve the way cancer will be treated in the future. Even when clinical trials do not lead to effective new treatments, they often answer important questions and help move research forward.\n                \n                \n                    Patients can enter clinical trials before, during, or after starting their cancer treatment.\n                    Some clinical trials only include patients who have not yet received treatment. Other trials test treatments for patients whose cancer has not gotten better. There are also clinical trials that test new ways to stop cancer from recurring (coming back) or reduce the side effects of cancer treatment.   Clinical trials are taking place in many parts of the country. See the Treatment Options section that follows for links to current treatment clinical trials. These have been retrieved from NCI&apos;s listing of clinical trials.\n                \n                \n                    Follow-up tests may be needed.\n                    Some of the tests that were done to diagnose the cancer or to find out the stage of the cancer may be repeated. Some tests will be repeated in order to see how well the treatment is working. Decisions about whether to continue, change, or stop treatment may be based on the results of these tests.   Some of the tests will continue to be done from time to time after treatment has ended. The results of these tests can show if your condition has changed or if the cancer has recurred (come back). These tests are sometimes called follow-up tests or check-ups.\n                \n                \n            \t\tTreatment Options for Small Intestine Cancer\n            \t\t\n                \t\t\n                    \t\tSmall Intestine Adenocarcinoma\n                    \t\tWhen possible, treatment of small intestine adenocarcinoma will be surgery to remove the tumor and some of the normal tissue around it.   Treatment of small intestine adenocarcinoma that cannot be removed by surgery may include the following:         - Surgery to bypass the tumor.    -  Radiation therapy as palliative therapy to relieve symptoms and improve the patient&apos;s quality of life.    - A clinical trial of radiation therapy with radiosensitizers, with or without chemotherapy.    - A clinical trial of new anticancer drugs.    - A clinical trial of biologic therapy.         Check the list of NCI-supported cancer clinical trials that are now accepting patients with small intestine adenocarcinoma. For more specific results, refine the search by using other search features, such as the location of the trial, the type of treatment, or the name of the drug. Talk with your doctor about clinical trials that may be right for you. General information about clinical trials is available from the NCI website.\n                \t\t\n                \t\t\n                    \t\tSmall Intestine Leiomyosarcoma\n                    \t\tWhen possible, treatment of small intestine leiomyosarcoma will be surgery to remove the tumor and some of the normal tissue around it.   Treatment of small intestine leiomyosarcoma that cannot be removed by surgery may include the following:         - Surgery (to bypass the tumor) and radiation therapy.    - Surgery, radiation therapy, or chemotherapy as palliative therapy to relieve symptoms and improve the patient&apos;s quality of life.    - A clinical trial of new anticancer drugs.    - A clinical trial of biologic therapy.         Check the list of NCI-supported cancer clinical trials that are now accepting patients with small intestine leiomyosarcoma. For more specific results, refine the search by using other search features, such as the location of the trial, the type of treatment, or the name of the drug. Talk with your doctor about clinical trials that may be right for you. General information about clinical trials is available from the NCI website.\n                \t\t\n                \t\n                    Recurrent Small Intestine Cancer\n                    Treatment of recurrent small intestine cancer that has spread to other parts of the body is usually a clinical trial of new anticancer drugs or biologic therapy.   Treatment of locally recurrent small intestine cancer may include the following:         -  Surgery.    -  Radiation therapy or chemotherapy as palliative therapy to relieve symptoms and improve the patient&apos;s quality of life.    - A clinical trial of radiation therapy with radiosensitizers, with or without chemotherapy.        Check the list of NCI-supported cancer clinical trials that are now accepting patients with recurrent small intestine cancer. For more specific results, refine the search by using other search features, such as the location of the trial, the type of treatment, or the name of the drug. Talk with your doctor about clinical trials that may be right for you. General information about clinical trials is available from the NCI website."
        ],
        [
         "What are the stages of Small Intestine Cancer ?",
         "Key Points\n                    - Tests and procedures to stage small intestine cancer are usually done at the same time as diagnosis.     - There are three ways that cancer spreads in the body.    - Cancer may spread from where it began to other parts of the body.    - Small intestine cancer is grouped according to whether or not the tumor can be completely removed by surgery.\n                \n                \n                    Tests and procedures to stage small intestine cancer are usually done at the same time as diagnosis.\n                    Staging is used to find out how far the cancer has spread, but treatment decisions are not based on stage. See the General Information section for a description of tests and procedures used to detect, diagnose, and stage small intestine cancer.\n                \n                \n                    There are three ways that cancer spreads in the body.\n                    Cancer can spread through tissue, the lymph system, and the blood:         - Tissue. The cancer spreads from where it began by growing into nearby areas.     - Lymph system. The cancer spreads from where it began by getting into the lymph system. The cancer travels through the lymph vessels to other parts of the body.     - Blood. The cancer spreads from where it began by getting into the blood. The cancer travels through the blood vessels to other parts of the body.\n                \n                \n                    Cancer may spread from where it began to other parts of the body.\n                    When cancer spreads to another part of the body, it is called metastasis. Cancer cells break away from where they began (the primary tumor) and travel through the lymph system or blood.         - Lymph system. The cancer gets into the lymph system, travels through the lymph vessels, and forms a tumor (metastatic tumor) in another part of the body.    - Blood. The cancer gets into the blood, travels through the blood vessels, and forms a tumor (metastatic tumor) in another part of the body.        The metastatic tumor is the same type of cancer as the primary tumor. For example, if small intestine cancer spreads to the liver, the cancer cells in the liver are actually small intestine cancer cells. The disease is metastatic small intestine cancer, not liver cancer.\n                \n                \n                    Small intestine cancer is grouped according to whether or not the tumor can be completely removed by surgery.\n                    Treatment depends on whether the tumor can be removed by surgery and if the cancer is being treated as a primary tumor or is metastatic cancer."
        ],
        [
         "What are the symptoms of Small Intestine Cancer ?",
         "Signs and symptoms of small intestine cancer include unexplained weight loss and abdominal pain. These and other signs and symptoms may be caused by small intestine cancer or by other conditions. Check with your doctor if you have any of the following:          - Pain or cramps in the middle of the abdomen.    - Weight loss with no known reason.     - A lump in the abdomen.     -  Blood in the stool."
        ]
       ],
       "datasetInfos": [],
       "dbfsResultPath": null,
       "isJsonSchema": true,
       "metadata": {},
       "overflow": false,
       "plotOptions": {
        "customPlotOptions": {},
        "displayType": "table",
        "pivotAggregation": null,
        "pivotColumns": null,
        "xColumns": null,
        "yColumns": null
       },
       "removedWidgets": [],
       "schema": [
        {
         "metadata": "{}",
         "name": "questions",
         "type": "\"string\""
        },
        {
         "metadata": "{}",
         "name": "answers",
         "type": "\"string\""
        }
       ],
       "type": "table"
      }
     },
     "output_type": "display_data"
    }
   ],
   "source": [
    "question, answer, suggestions = qb.ask('explain intestine cancer')\n",
    "print(\"Matching question =\", question)\n",
    "print(\"Answer =\", answer)\n",
    "print(\"\\nMore Suggestions:\")\n",
    "suggestions.display()"
   ]
  },
  {
   "cell_type": "code",
   "execution_count": 0,
   "metadata": {
    "application/vnd.databricks.v1+cell": {
     "cellMetadata": {
      "byteLimit": 2048000,
      "rowLimit": 10000
     },
     "inputWidgets": {},
     "nuid": "2850761c-0612-4358-8f34-e6a3daceaf4e",
     "showTitle": true,
     "title": "Load the saved bot and ask"
    }
   },
   "outputs": [
    {
     "output_type": "stream",
     "name": "stdout",
     "output_type": "stream",
     "text": [
      "Matching question = What is (are) Small Intestine Cancer ?\nAnswer = Key Points\n                    - Small intestine cancer is a rare disease in which malignant (cancer) cells form in the tissues of the small intestine.    - There are five types of small intestine cancer.    - Diet and health history can affect the risk of developing small intestine cancer.    - Signs and symptoms of small intestine cancer include unexplained weight loss and abdominal pain.    - Tests that examine the small intestine are used to detect (find), diagnose, and stage small intestine cancer.    - Certain factors affect prognosis (chance of recovery) and treatment options.\n                \n                \n                    Small intestine cancer is a rare disease in which malignant (cancer) cells form in the tissues of the small intestine.\n                    The small intestine is part of the bodys digestive system, which also includes the esophagus, stomach, and large intestine. The digestive system removes and processes nutrients (vitamins, minerals, carbohydrates, fats, proteins, and water) from foods and helps pass waste material out of the body. The small intestine is a long tube that connects the stomach to the large intestine. It folds many times to fit inside the abdomen.\n                \n                \n                    There are five types of small intestine cancer.\n                    The types of cancer found in the small intestine are adenocarcinoma, sarcoma, carcinoid tumors, gastrointestinal stromal tumor, and lymphoma. This summary discusses adenocarcinoma and leiomyosarcoma (a type of sarcoma).    Adenocarcinoma starts in glandular cells in the lining of the small intestine and is the most common type of small intestine cancer. Most of these tumors occur in the part of the small intestine near the stomach. They may grow and block the intestine.   Leiomyosarcoma starts in the smooth muscle cells of the small intestine. Most of these tumors occur in the part of the small intestine near the large intestine.    See the following PDQ summaries for more information on small intestine cancer:          -  Adult Soft Tissue Sarcoma Treatment     -  Childhood Soft Tissue Sarcoma Treatment     -  Adult Non-Hodgkin Lymphoma Treatment     -  Childhood Non-Hodgkin Lymphoma Treatment     -  Gastrointestinal Carcinoid Tumors Treatment     -  Gastrointestinal Stromal Tumors Treatment\n\nMore Suggestions:\n"
     ]
    },
    {
     "output_type": "display_data",
     "data": {
      "text/html": [
       "<style scoped>\n",
       "  .table-result-container {\n",
       "    max-height: 300px;\n",
       "    overflow: auto;\n",
       "  }\n",
       "  table, th, td {\n",
       "    border: 1px solid black;\n",
       "    border-collapse: collapse;\n",
       "  }\n",
       "  th, td {\n",
       "    padding: 5px;\n",
       "  }\n",
       "  th {\n",
       "    text-align: left;\n",
       "  }\n",
       "</style><div class='table-result-container'><table class='table-result'><thead style='background-color: white'><tr><th>questions</th><th>answers</th></tr></thead><tbody><tr><td>What are the treatments for Small Intestine Cancer ?</td><td>Key Points\n",
       "                    - There are different types of treatment for patients with small intestine cancer.    - Three types of standard treatment are used:         -  Surgery      -  Radiation therapy      -  Chemotherapy         - New types of treatment are being tested in clinical trials.          - Biologic therapy     - Radiation therapy with radiosensitizers         - Patients may want to think about taking part in a clinical trial.    - Patients can enter clinical trials before, during, or after starting their cancer treatment.    - Follow-up tests may be needed.\n",
       "                \n",
       "                \n",
       "                    There are different types of treatment for patients with small intestine cancer.\n",
       "                    Different types of treatments are available for patients with small intestine cancer. Some treatments are standard (the currently used treatment), and some are being tested in clinical trials. A treatment clinical trial is a research study meant to help improve current treatments or obtain information on new treatments for patients with cancer. When clinical trials show that a new treatment is better than the standard treatment, the new treatment may become the standard treatment. Patients may want to think about taking part in a clinical trial. Some clinical trials are open only to patients who have not started treatment.\n",
       "                \n",
       "                \n",
       "                    Three types of standard treatment are used:\n",
       "                    Surgery      Surgery is the most common treatment of small intestine cancer. One of the following types of surgery may be done:            -  Resection: Surgery to remove part or all of an organ that contains cancer. The resection may include the small intestine and nearby organs (if the cancer has spread). The doctor may remove the section of the small intestine that contains cancer and perform an anastomosis (joining the cut ends of the intestine together). The doctor will usually remove lymph nodes near the small intestine and examine them under a microscope to see whether they contain cancer.     -  Bypass: Surgery to allow food in the small intestine to go around (bypass) a tumor that is blocking the intestine but cannot be removed.            Even if the doctor removes all the cancer that can be seen at the time of the surgery, some patients may be given radiation therapy after surgery to kill any cancer cells that are left. Treatment given after the surgery, to lower the risk that the cancer will come back, is called adjuvant therapy.        Radiation therapy     Radiation therapy is a cancer treatment that uses high-energy x-rays or other types of radiation to kill cancer cells or keep them from growing. There are two types of radiation therapy:            -  External radiation therapy uses a machine outside the body to send radiation toward the cancer.     -  Internal radiation therapy uses a radioactive substance sealed in needles, seeds, wires, or catheters that are placed directly into or near the cancer.            The way the radiation therapy is given depends on the type of the cancer being treated. External radiation therapy is used to treat small intestine cancer.         Chemotherapy      Chemotherapy is a cancer treatment that uses drugs to stop the growth of cancer cells, either by killing the cells or by stopping them from dividing. When chemotherapy is taken by mouth or injected into a vein or muscle, the drugs enter the bloodstream and can reach cancer cells throughout the body (systemic chemotherapy). When chemotherapy is placed directly into the cerebrospinal fluid, an organ, or a body cavity such as the abdomen, the drugs mainly affect cancer cells in those areas (regional chemotherapy). The way the chemotherapy is given depends on the type and stage of the cancer being treated.\n",
       "                \n",
       "                \n",
       "                    New types of treatment are being tested in clinical trials.\n",
       "                    This summary section describes treatments that are being studied in clinical trials. It may not mention every new treatment being studied. Information about clinical trials is available from the NCI website.     Biologic therapy     Biologic therapy is a treatment that uses the patient&apos;s immune system to fight cancer. Substances made by the body or made in a laboratory are used to boost, direct, or restore the body&apos;s natural defenses against cancer. This type of cancer treatment is also called biotherapy or immunotherapy.       Radiation therapy with radiosensitizers      Radiosensitizers are drugs that make tumor cells more sensitive to radiation therapy. Combining radiation therapy with radiosensitizers may kill more tumor cells.\n",
       "                \n",
       "                \n",
       "                    Patients may want to think about taking part in a clinical trial.\n",
       "                    For some patients, taking part in a clinical trial may be the best treatment choice. Clinical trials are part of the cancer research process. Clinical trials are done to find out if new cancer treatments are safe and effective or better than the standard treatment.   Many of today&apos;s standard treatments for cancer are based on earlier clinical trials. Patients who take part in a clinical trial may receive the standard treatment or be among the first to receive a new treatment.   Patients who take part in clinical trials also help improve the way cancer will be treated in the future. Even when clinical trials do not lead to effective new treatments, they often answer important questions and help move research forward.\n",
       "                \n",
       "                \n",
       "                    Patients can enter clinical trials before, during, or after starting their cancer treatment.\n",
       "                    Some clinical trials only include patients who have not yet received treatment. Other trials test treatments for patients whose cancer has not gotten better. There are also clinical trials that test new ways to stop cancer from recurring (coming back) or reduce the side effects of cancer treatment.   Clinical trials are taking place in many parts of the country. See the Treatment Options section that follows for links to current treatment clinical trials. These have been retrieved from NCI&apos;s listing of clinical trials.\n",
       "                \n",
       "                \n",
       "                    Follow-up tests may be needed.\n",
       "                    Some of the tests that were done to diagnose the cancer or to find out the stage of the cancer may be repeated. Some tests will be repeated in order to see how well the treatment is working. Decisions about whether to continue, change, or stop treatment may be based on the results of these tests.   Some of the tests will continue to be done from time to time after treatment has ended. The results of these tests can show if your condition has changed or if the cancer has recurred (come back). These tests are sometimes called follow-up tests or check-ups.\n",
       "                \n",
       "                \n",
       "            \t\tTreatment Options for Small Intestine Cancer\n",
       "            \t\t\n",
       "                \t\t\n",
       "                    \t\tSmall Intestine Adenocarcinoma\n",
       "                    \t\tWhen possible, treatment of small intestine adenocarcinoma will be surgery to remove the tumor and some of the normal tissue around it.   Treatment of small intestine adenocarcinoma that cannot be removed by surgery may include the following:         - Surgery to bypass the tumor.    -  Radiation therapy as palliative therapy to relieve symptoms and improve the patient&apos;s quality of life.    - A clinical trial of radiation therapy with radiosensitizers, with or without chemotherapy.    - A clinical trial of new anticancer drugs.    - A clinical trial of biologic therapy.         Check the list of NCI-supported cancer clinical trials that are now accepting patients with small intestine adenocarcinoma. For more specific results, refine the search by using other search features, such as the location of the trial, the type of treatment, or the name of the drug. Talk with your doctor about clinical trials that may be right for you. General information about clinical trials is available from the NCI website.\n",
       "                \t\t\n",
       "                \t\t\n",
       "                    \t\tSmall Intestine Leiomyosarcoma\n",
       "                    \t\tWhen possible, treatment of small intestine leiomyosarcoma will be surgery to remove the tumor and some of the normal tissue around it.   Treatment of small intestine leiomyosarcoma that cannot be removed by surgery may include the following:         - Surgery (to bypass the tumor) and radiation therapy.    - Surgery, radiation therapy, or chemotherapy as palliative therapy to relieve symptoms and improve the patient&apos;s quality of life.    - A clinical trial of new anticancer drugs.    - A clinical trial of biologic therapy.         Check the list of NCI-supported cancer clinical trials that are now accepting patients with small intestine leiomyosarcoma. For more specific results, refine the search by using other search features, such as the location of the trial, the type of treatment, or the name of the drug. Talk with your doctor about clinical trials that may be right for you. General information about clinical trials is available from the NCI website.\n",
       "                \t\t\n",
       "                \t\n",
       "                    Recurrent Small Intestine Cancer\n",
       "                    Treatment of recurrent small intestine cancer that has spread to other parts of the body is usually a clinical trial of new anticancer drugs or biologic therapy.   Treatment of locally recurrent small intestine cancer may include the following:         -  Surgery.    -  Radiation therapy or chemotherapy as palliative therapy to relieve symptoms and improve the patient&apos;s quality of life.    - A clinical trial of radiation therapy with radiosensitizers, with or without chemotherapy.        Check the list of NCI-supported cancer clinical trials that are now accepting patients with recurrent small intestine cancer. For more specific results, refine the search by using other search features, such as the location of the trial, the type of treatment, or the name of the drug. Talk with your doctor about clinical trials that may be right for you. General information about clinical trials is available from the NCI website.</td></tr><tr><td>What are the stages of Small Intestine Cancer ?</td><td>Key Points\n",
       "                    - Tests and procedures to stage small intestine cancer are usually done at the same time as diagnosis.     - There are three ways that cancer spreads in the body.    - Cancer may spread from where it began to other parts of the body.    - Small intestine cancer is grouped according to whether or not the tumor can be completely removed by surgery.\n",
       "                \n",
       "                \n",
       "                    Tests and procedures to stage small intestine cancer are usually done at the same time as diagnosis.\n",
       "                    Staging is used to find out how far the cancer has spread, but treatment decisions are not based on stage. See the General Information section for a description of tests and procedures used to detect, diagnose, and stage small intestine cancer.\n",
       "                \n",
       "                \n",
       "                    There are three ways that cancer spreads in the body.\n",
       "                    Cancer can spread through tissue, the lymph system, and the blood:         - Tissue. The cancer spreads from where it began by growing into nearby areas.     - Lymph system. The cancer spreads from where it began by getting into the lymph system. The cancer travels through the lymph vessels to other parts of the body.     - Blood. The cancer spreads from where it began by getting into the blood. The cancer travels through the blood vessels to other parts of the body.\n",
       "                \n",
       "                \n",
       "                    Cancer may spread from where it began to other parts of the body.\n",
       "                    When cancer spreads to another part of the body, it is called metastasis. Cancer cells break away from where they began (the primary tumor) and travel through the lymph system or blood.         - Lymph system. The cancer gets into the lymph system, travels through the lymph vessels, and forms a tumor (metastatic tumor) in another part of the body.    - Blood. The cancer gets into the blood, travels through the blood vessels, and forms a tumor (metastatic tumor) in another part of the body.        The metastatic tumor is the same type of cancer as the primary tumor. For example, if small intestine cancer spreads to the liver, the cancer cells in the liver are actually small intestine cancer cells. The disease is metastatic small intestine cancer, not liver cancer.\n",
       "                \n",
       "                \n",
       "                    Small intestine cancer is grouped according to whether or not the tumor can be completely removed by surgery.\n",
       "                    Treatment depends on whether the tumor can be removed by surgery and if the cancer is being treated as a primary tumor or is metastatic cancer.</td></tr><tr><td>What are the symptoms of Small Intestine Cancer ?</td><td>Signs and symptoms of small intestine cancer include unexplained weight loss and abdominal pain. These and other signs and symptoms may be caused by small intestine cancer or by other conditions. Check with your doctor if you have any of the following:          - Pain or cramps in the middle of the abdomen.    - Weight loss with no known reason.     - A lump in the abdomen.     -  Blood in the stool.</td></tr></tbody></table></div>"
      ]
     },
     "metadata": {
      "application/vnd.databricks.v1+output": {
       "addedWidgets": {},
       "aggData": [],
       "aggError": "",
       "aggOverflow": false,
       "aggSchema": [],
       "aggSeriesLimitReached": false,
       "aggType": "",
       "arguments": {},
       "columnCustomDisplayInfos": {},
       "data": [
        [
         "What are the treatments for Small Intestine Cancer ?",
         "Key Points\n                    - There are different types of treatment for patients with small intestine cancer.    - Three types of standard treatment are used:         -  Surgery      -  Radiation therapy      -  Chemotherapy         - New types of treatment are being tested in clinical trials.          - Biologic therapy     - Radiation therapy with radiosensitizers         - Patients may want to think about taking part in a clinical trial.    - Patients can enter clinical trials before, during, or after starting their cancer treatment.    - Follow-up tests may be needed.\n                \n                \n                    There are different types of treatment for patients with small intestine cancer.\n                    Different types of treatments are available for patients with small intestine cancer. Some treatments are standard (the currently used treatment), and some are being tested in clinical trials. A treatment clinical trial is a research study meant to help improve current treatments or obtain information on new treatments for patients with cancer. When clinical trials show that a new treatment is better than the standard treatment, the new treatment may become the standard treatment. Patients may want to think about taking part in a clinical trial. Some clinical trials are open only to patients who have not started treatment.\n                \n                \n                    Three types of standard treatment are used:\n                    Surgery      Surgery is the most common treatment of small intestine cancer. One of the following types of surgery may be done:            -  Resection: Surgery to remove part or all of an organ that contains cancer. The resection may include the small intestine and nearby organs (if the cancer has spread). The doctor may remove the section of the small intestine that contains cancer and perform an anastomosis (joining the cut ends of the intestine together). The doctor will usually remove lymph nodes near the small intestine and examine them under a microscope to see whether they contain cancer.     -  Bypass: Surgery to allow food in the small intestine to go around (bypass) a tumor that is blocking the intestine but cannot be removed.            Even if the doctor removes all the cancer that can be seen at the time of the surgery, some patients may be given radiation therapy after surgery to kill any cancer cells that are left. Treatment given after the surgery, to lower the risk that the cancer will come back, is called adjuvant therapy.        Radiation therapy     Radiation therapy is a cancer treatment that uses high-energy x-rays or other types of radiation to kill cancer cells or keep them from growing. There are two types of radiation therapy:            -  External radiation therapy uses a machine outside the body to send radiation toward the cancer.     -  Internal radiation therapy uses a radioactive substance sealed in needles, seeds, wires, or catheters that are placed directly into or near the cancer.            The way the radiation therapy is given depends on the type of the cancer being treated. External radiation therapy is used to treat small intestine cancer.         Chemotherapy      Chemotherapy is a cancer treatment that uses drugs to stop the growth of cancer cells, either by killing the cells or by stopping them from dividing. When chemotherapy is taken by mouth or injected into a vein or muscle, the drugs enter the bloodstream and can reach cancer cells throughout the body (systemic chemotherapy). When chemotherapy is placed directly into the cerebrospinal fluid, an organ, or a body cavity such as the abdomen, the drugs mainly affect cancer cells in those areas (regional chemotherapy). The way the chemotherapy is given depends on the type and stage of the cancer being treated.\n                \n                \n                    New types of treatment are being tested in clinical trials.\n                    This summary section describes treatments that are being studied in clinical trials. It may not mention every new treatment being studied. Information about clinical trials is available from the NCI website.     Biologic therapy     Biologic therapy is a treatment that uses the patient&apos;s immune system to fight cancer. Substances made by the body or made in a laboratory are used to boost, direct, or restore the body&apos;s natural defenses against cancer. This type of cancer treatment is also called biotherapy or immunotherapy.       Radiation therapy with radiosensitizers      Radiosensitizers are drugs that make tumor cells more sensitive to radiation therapy. Combining radiation therapy with radiosensitizers may kill more tumor cells.\n                \n                \n                    Patients may want to think about taking part in a clinical trial.\n                    For some patients, taking part in a clinical trial may be the best treatment choice. Clinical trials are part of the cancer research process. Clinical trials are done to find out if new cancer treatments are safe and effective or better than the standard treatment.   Many of today&apos;s standard treatments for cancer are based on earlier clinical trials. Patients who take part in a clinical trial may receive the standard treatment or be among the first to receive a new treatment.   Patients who take part in clinical trials also help improve the way cancer will be treated in the future. Even when clinical trials do not lead to effective new treatments, they often answer important questions and help move research forward.\n                \n                \n                    Patients can enter clinical trials before, during, or after starting their cancer treatment.\n                    Some clinical trials only include patients who have not yet received treatment. Other trials test treatments for patients whose cancer has not gotten better. There are also clinical trials that test new ways to stop cancer from recurring (coming back) or reduce the side effects of cancer treatment.   Clinical trials are taking place in many parts of the country. See the Treatment Options section that follows for links to current treatment clinical trials. These have been retrieved from NCI&apos;s listing of clinical trials.\n                \n                \n                    Follow-up tests may be needed.\n                    Some of the tests that were done to diagnose the cancer or to find out the stage of the cancer may be repeated. Some tests will be repeated in order to see how well the treatment is working. Decisions about whether to continue, change, or stop treatment may be based on the results of these tests.   Some of the tests will continue to be done from time to time after treatment has ended. The results of these tests can show if your condition has changed or if the cancer has recurred (come back). These tests are sometimes called follow-up tests or check-ups.\n                \n                \n            \t\tTreatment Options for Small Intestine Cancer\n            \t\t\n                \t\t\n                    \t\tSmall Intestine Adenocarcinoma\n                    \t\tWhen possible, treatment of small intestine adenocarcinoma will be surgery to remove the tumor and some of the normal tissue around it.   Treatment of small intestine adenocarcinoma that cannot be removed by surgery may include the following:         - Surgery to bypass the tumor.    -  Radiation therapy as palliative therapy to relieve symptoms and improve the patient&apos;s quality of life.    - A clinical trial of radiation therapy with radiosensitizers, with or without chemotherapy.    - A clinical trial of new anticancer drugs.    - A clinical trial of biologic therapy.         Check the list of NCI-supported cancer clinical trials that are now accepting patients with small intestine adenocarcinoma. For more specific results, refine the search by using other search features, such as the location of the trial, the type of treatment, or the name of the drug. Talk with your doctor about clinical trials that may be right for you. General information about clinical trials is available from the NCI website.\n                \t\t\n                \t\t\n                    \t\tSmall Intestine Leiomyosarcoma\n                    \t\tWhen possible, treatment of small intestine leiomyosarcoma will be surgery to remove the tumor and some of the normal tissue around it.   Treatment of small intestine leiomyosarcoma that cannot be removed by surgery may include the following:         - Surgery (to bypass the tumor) and radiation therapy.    - Surgery, radiation therapy, or chemotherapy as palliative therapy to relieve symptoms and improve the patient&apos;s quality of life.    - A clinical trial of new anticancer drugs.    - A clinical trial of biologic therapy.         Check the list of NCI-supported cancer clinical trials that are now accepting patients with small intestine leiomyosarcoma. For more specific results, refine the search by using other search features, such as the location of the trial, the type of treatment, or the name of the drug. Talk with your doctor about clinical trials that may be right for you. General information about clinical trials is available from the NCI website.\n                \t\t\n                \t\n                    Recurrent Small Intestine Cancer\n                    Treatment of recurrent small intestine cancer that has spread to other parts of the body is usually a clinical trial of new anticancer drugs or biologic therapy.   Treatment of locally recurrent small intestine cancer may include the following:         -  Surgery.    -  Radiation therapy or chemotherapy as palliative therapy to relieve symptoms and improve the patient&apos;s quality of life.    - A clinical trial of radiation therapy with radiosensitizers, with or without chemotherapy.        Check the list of NCI-supported cancer clinical trials that are now accepting patients with recurrent small intestine cancer. For more specific results, refine the search by using other search features, such as the location of the trial, the type of treatment, or the name of the drug. Talk with your doctor about clinical trials that may be right for you. General information about clinical trials is available from the NCI website."
        ],
        [
         "What are the stages of Small Intestine Cancer ?",
         "Key Points\n                    - Tests and procedures to stage small intestine cancer are usually done at the same time as diagnosis.     - There are three ways that cancer spreads in the body.    - Cancer may spread from where it began to other parts of the body.    - Small intestine cancer is grouped according to whether or not the tumor can be completely removed by surgery.\n                \n                \n                    Tests and procedures to stage small intestine cancer are usually done at the same time as diagnosis.\n                    Staging is used to find out how far the cancer has spread, but treatment decisions are not based on stage. See the General Information section for a description of tests and procedures used to detect, diagnose, and stage small intestine cancer.\n                \n                \n                    There are three ways that cancer spreads in the body.\n                    Cancer can spread through tissue, the lymph system, and the blood:         - Tissue. The cancer spreads from where it began by growing into nearby areas.     - Lymph system. The cancer spreads from where it began by getting into the lymph system. The cancer travels through the lymph vessels to other parts of the body.     - Blood. The cancer spreads from where it began by getting into the blood. The cancer travels through the blood vessels to other parts of the body.\n                \n                \n                    Cancer may spread from where it began to other parts of the body.\n                    When cancer spreads to another part of the body, it is called metastasis. Cancer cells break away from where they began (the primary tumor) and travel through the lymph system or blood.         - Lymph system. The cancer gets into the lymph system, travels through the lymph vessels, and forms a tumor (metastatic tumor) in another part of the body.    - Blood. The cancer gets into the blood, travels through the blood vessels, and forms a tumor (metastatic tumor) in another part of the body.        The metastatic tumor is the same type of cancer as the primary tumor. For example, if small intestine cancer spreads to the liver, the cancer cells in the liver are actually small intestine cancer cells. The disease is metastatic small intestine cancer, not liver cancer.\n                \n                \n                    Small intestine cancer is grouped according to whether or not the tumor can be completely removed by surgery.\n                    Treatment depends on whether the tumor can be removed by surgery and if the cancer is being treated as a primary tumor or is metastatic cancer."
        ],
        [
         "What are the symptoms of Small Intestine Cancer ?",
         "Signs and symptoms of small intestine cancer include unexplained weight loss and abdominal pain. These and other signs and symptoms may be caused by small intestine cancer or by other conditions. Check with your doctor if you have any of the following:          - Pain or cramps in the middle of the abdomen.    - Weight loss with no known reason.     - A lump in the abdomen.     -  Blood in the stool."
        ]
       ],
       "datasetInfos": [],
       "dbfsResultPath": null,
       "isJsonSchema": true,
       "metadata": {},
       "overflow": false,
       "plotOptions": {
        "customPlotOptions": {},
        "displayType": "table",
        "pivotAggregation": null,
        "pivotColumns": null,
        "xColumns": null,
        "yColumns": null
       },
       "removedWidgets": [],
       "schema": [
        {
         "metadata": "{}",
         "name": "questions",
         "type": "\"string\""
        },
        {
         "metadata": "{}",
         "name": "answers",
         "type": "\"string\""
        }
       ],
       "type": "table"
      }
     },
     "output_type": "display_data"
    }
   ],
   "source": [
    "qb = unpickle ('/dbfs/FileStore/surajit/qb.bin')\n",
    "\n",
    "question, answer, suggestions = qb.ask('explain intestine cancer')\n",
    "print(\"Matching question =\", question)\n",
    "print(\"Answer =\", answer)\n",
    "print(\"\\nMore Suggestions:\")\n",
    "suggestions.display()"
   ]
  },
  {
   "cell_type": "markdown",
   "metadata": {
    "application/vnd.databricks.v1+cell": {
     "cellMetadata": {
      "byteLimit": 2048000,
      "rowLimit": 10000
     },
     "inputWidgets": {},
     "nuid": "fe2cd11f-6da5-439d-b052-69844f02806b",
     "showTitle": false,
     "title": ""
    }
   },
   "source": [
    "## Done"
   ]
  }
 ],
 "metadata": {
  "application/vnd.databricks.v1+notebook": {
   "dashboards": [],
   "language": "python",
   "notebookMetadata": {
    "pythonIndentUnit": 4
   },
   "notebookName": "Chatbot_Word2Vec_NearestNeighbour_CosineSim",
   "widgets": {}
  },
  "kernelspec": {
   "display_name": "Python 3",
   "language": "python",
   "name": "python3"
  },
  "language_info": {
   "codemirror_mode": {
    "name": "ipython",
    "version": 3
   },
   "file_extension": ".py",
   "mimetype": "text/x-python",
   "name": "python",
   "nbconvert_exporter": "python",
   "pygments_lexer": "ipython3",
   "version": "3.6.5"
  }
 },
 "nbformat": 4,
 "nbformat_minor": 0
}
